{
 "cells": [
  {
   "cell_type": "markdown",
   "id": "2500dc2b",
   "metadata": {},
   "source": [
    "## TEST"
   ]
  },
  {
   "cell_type": "code",
   "execution_count": null,
   "id": "0bb8a9b3",
   "metadata": {},
   "outputs": [],
   "source": [
    "### Let's visualize the embeddings ###\n",
    "import matplotlib.pyplot as plt\n",
    "from sklearn.decomposition import PCA\n",
    "from sklearn.manifold import TSNE\n",
    "\n",
    "\n",
    "def plot_embeddings(embeddings, labels):\n",
    "    pca = PCA(n_components=2)\n",
    "    tsne = TSNE(n_components=2, random_state=0)\n",
    "    embeddings_2d = pca.fit_transform(embeddings)\n",
    "    plt.figure(figsize=(6, 4), dpi=300)\n",
    "    plt.scatter(embeddings_2d[:, 0], embeddings_2d[:, 1], c=labels, cmap='viridis', s=100)\n",
    "    plt.title(\"Node Embeddings Visualization\")\n",
    "    plt.colorbar()\n",
    "    plt.show()\n",
    "plot_embeddings(node2vec.wv[train_mask_str], labels[train_mask])\n",
    "# plot_embeddings(node2vec.wv[test_mask_str], labels[test_mask])"
   ]
  }
 ],
 "metadata": {
  "kernelspec": {
   "display_name": "NLP",
   "language": "python",
   "name": "python3"
  },
  "language_info": {
   "name": "python",
   "version": "3.10.12"
  }
 },
 "nbformat": 4,
 "nbformat_minor": 5
}
