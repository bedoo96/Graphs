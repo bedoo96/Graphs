{
 "cells": [
  {
   "cell_type": "code",
   "execution_count": 79,
   "id": "a1e647e3",
   "metadata": {},
   "outputs": [],
   "source": [
    "from torch_geometric.datasets import Planetoid\n",
    "from torch_geometric.utils import degree\n",
    "from collections import Counter\n",
    "import matplotlib.pyplot as plt\n",
    "import torch.nn.functional as F\n",
    "from torch_geometric.nn import GCNConv\n",
    "import torch"
   ]
  },
  {
   "cell_type": "code",
   "execution_count": 80,
   "id": "98e10630",
   "metadata": {},
   "outputs": [],
   "source": [
    "### Let's import the Cora dataset ###\n",
    "dataset = Planetoid (root='.', name='Cora')\n",
    "data = dataset[0] # get the first graph object"
   ]
  },
  {
   "cell_type": "code",
   "execution_count": 81,
   "id": "bb9deecd",
   "metadata": {},
   "outputs": [
    {
     "name": "stdout",
     "output_type": "stream",
     "text": [
      "Dataset: Cora()\n",
      "Number of nodes: 2708\n",
      "Number of edges: 10556\n",
      "Number of features: 1433\n",
      "Number of classes: 7\n",
      "Number of training nodes: 140\n",
      "Number of validation nodes: 500\n",
      "Number of test nodes: 1000\n"
     ]
    }
   ],
   "source": [
    "print(f'Dataset: {dataset}')\n",
    "print(f'Number of nodes: {data.num_nodes}')\n",
    "print(f'Number of edges: {data.num_edges}')\n",
    "print(f'Number of features: {data.num_features}')\n",
    "print(f'Number of classes: {dataset.num_classes}')\n",
    "print(f'Number of training nodes: {data.train_mask.sum()}')\n",
    "print(f'Number of validation nodes: {data.val_mask.sum()}')\n",
    "print(f'Number of test nodes: {data.test_mask.sum()}')"
   ]
  },
  {
   "cell_type": "code",
   "execution_count": 82,
   "id": "7090f985",
   "metadata": {},
   "outputs": [],
   "source": [
    "data.train_mask = range(1400)\n",
    "data.val_mask = range(1401, 2000)\n",
    "data.test_mask = range(2001, 2708)"
   ]
  },
  {
   "cell_type": "code",
   "execution_count": 83,
   "id": "6b145a66",
   "metadata": {},
   "outputs": [
    {
     "name": "stdout",
     "output_type": "stream",
     "text": [
      "Degree of nodes: Counter({2.0: 583, 3.0: 553, 1.0: 485, 4.0: 389, 5.0: 281, 6.0: 131, 7.0: 82, 8.0: 57, 10.0: 26, 9.0: 25, 12.0: 18, 11.0: 14, 17.0: 8, 16.0: 7, 14.0: 6, 15.0: 6, 19.0: 5, 13.0: 5, 21.0: 3, 18.0: 3, 23.0: 3, 32.0: 2, 30.0: 2, 36.0: 1, 78.0: 1, 33.0: 1, 29.0: 1, 34.0: 1, 26.0: 1, 168.0: 1, 22.0: 1, 42.0: 1, 74.0: 1, 44.0: 1, 31.0: 1, 65.0: 1, 40.0: 1})\n"
     ]
    },
    {
     "data": {
      "text/plain": [
       "<BarContainer object of 37 artists>"
      ]
     },
     "execution_count": 83,
     "metadata": {},
     "output_type": "execute_result"
    },
    {
     "data": {
      "image/png": "[encoded data removed]",
      "text/plain": [
       "<Figure size 640x480 with 1 Axes>"
      ]
     },
     "metadata": {},
     "output_type": "display_data"
    }
   ],
   "source": [
    "### Degree of nodes ###\n",
    "degrees = degree(data.edge_index[0]).numpy()\n",
    "numbers = Counter(degrees)\n",
    "print(f'Degree of nodes: {numbers}')\n",
    "\n",
    "### Plotting the degree distribution ###\n",
    "fig, ax = plt.subplots()\n",
    "ax.set_xlabel(\"Node degree\")\n",
    "ax.set_ylabel('Number of nodes')\n",
    "plt.bar(numbers.keys(), numbers.values() )"
   ]
  },
  {
   "cell_type": "code",
   "execution_count": 84,
   "id": "3b10f32d",
   "metadata": {},
   "outputs": [],
   "source": [
    "def accuracy(y_pred, y_true):\n",
    "    preds = y_pred.argmax(dim=1)\n",
    "    correct = (preds == y_true).sum()\n",
    "    return correct.float() / len(y_true)\n"
   ]
  },
  {
   "cell_type": "code",
   "execution_count": 96,
   "id": "c5b3dc8b",
   "metadata": {},
   "outputs": [],
   "source": [
    "### Defining the GCN model ###\n",
    "class GCN(torch.nn.Module):\n",
    "    def __init__(self, in_channels, hidden_channels, out_channels):\n",
    "        super().__init__()\n",
    "        self.conv1 = GCNConv(in_channels, hidden_channels)\n",
    "        self.conv2 = GCNConv(hidden_channels, out_channels)\n",
    "\n",
    "        ### Initialise history for ploting ###\n",
    "        self.train_losses = []\n",
    "        self.val_losses = []\n",
    "        self.val_accuracies = []\n",
    "\n",
    "    def forward(self, x, edge_index):\n",
    "        x = self.conv1(x, edge_index)\n",
    "        x = torch.relu(x)\n",
    "        x = self.conv2(x, edge_index)\n",
    "        return F.log_softmax(x, dim=1)\n",
    "\n",
    "    ### training the model ###\n",
    "    def fit(self, data, epochs):\n",
    "        criterion = torch.nn.CrossEntropyLoss()\n",
    "        optimizer = torch.optim.Adam(self.parameters(), lr=0.01, weight_decay=5e-4)\n",
    "        self.train()\n",
    "\n",
    "        for epoch in range(epochs + 1):\n",
    "            optimizer.zero_grad()\n",
    "            out = self(data.x,data.edge_index)\n",
    "            # Compute loss and backpropagate\n",
    "            loss = criterion(out[data.train_mask], data.y[data.train_mask])\n",
    "            loss.backward()\n",
    "            optimizer.step()\n",
    "\n",
    "            # Track losses and accuracy\n",
    "            val_loss = criterion(out[data.val_mask], data.y[data.val_mask]).item()\n",
    "            val_acc = accuracy(out[data.val_mask], data.y[data.val_mask]).item()\n",
    "\n",
    "            self.train_losses.append(loss.item())\n",
    "            self.val_losses.append(val_loss)\n",
    "            self.val_accuracies.append(val_acc)\n",
    "\n",
    "            if epoch % 20 == 0:\n",
    "                print(f'Epoch {epoch:>3} | Train Loss: {loss.item():.3f}, Val Loss: {val_loss:.2f}, Val Acc: {val_acc*100:.2f}%')\n",
    "\n",
    "    @torch.no_grad()\n",
    "    def test(self, data):\n",
    "        self.eval()\n",
    "        out = self(data.x, data.edge_index)\n",
    "        acc = accuracy(out[data.test_mask], data.y[data.test_mask])\n",
    "        return acc.item()\n",
    "\n",
    "    ### Plotting the training and validation loss ###\n",
    "    def plot_loss(self):\n",
    "        fig, ax = plt.subplots()\n",
    "        ax.set_xlabel(\"Epoch\")\n",
    "        ax.set_ylabel('Loss')\n",
    "        plt.plot(self.train_losses, label='Train Loss')\n",
    "        plt.plot(self.val_losses, label='Validation Loss')\n",
    "        plt.legend()\n",
    "        plt.show()\n",
    "\n",
    "    ### Plotting the accuracy ###\n",
    "    def plot_accuracy(self):\n",
    "        fig, ax = plt.subplots()\n",
    "        ax.set_xlabel(\"Epoch\")\n",
    "        ax.set_ylabel('Accuracy')\n",
    "        plt.plot(self.val_accuracies, label='Accuracy')\n",
    "        plt.legend()\n",
    "        plt.show()"
   ]
  },
  {
   "cell_type": "code",
   "execution_count": 97,
   "id": "054be7e9",
   "metadata": {},
   "outputs": [
    {
     "name": "stdout",
     "output_type": "stream",
     "text": [
      "GCN(\n",
      "  (conv1): GCNConv(1433, 16)\n",
      "  (conv2): GCNConv(16, 7)\n",
      ")\n"
     ]
    }
   ],
   "source": [
    "### Let's instantiate and train the model ###\n",
    "gcn = GCN(dataset.num_features, 16, dataset.num_classes)\n",
    "print(gcn)"
   ]
  },
  {
   "cell_type": "code",
   "execution_count": 87,
   "id": "e843310f",
   "metadata": {},
   "outputs": [
    {
     "name": "stdout",
     "output_type": "stream",
     "text": [
      "Epoch   0 | Train Loss: 1.952, Val Loss: 1.95, Val Acc: 9.52%\n",
      "Epoch  20 | Train Loss: 0.352, Val Loss: 0.43, Val Acc: 90.32%\n",
      "Epoch  40 | Train Loss: 0.142, Val Loss: 0.33, Val Acc: 89.32%\n",
      "Epoch  60 | Train Loss: 0.103, Val Loss: 0.34, Val Acc: 87.98%\n",
      "Epoch  80 | Train Loss: 0.087, Val Loss: 0.35, Val Acc: 87.48%\n",
      "Epoch 100 | Train Loss: 0.075, Val Loss: 0.36, Val Acc: 87.15%\n"
     ]
    }
   ],
   "source": [
    "gcn.fit(data, epochs=100)"
   ]
  },
  {
   "cell_type": "code",
   "execution_count": 88,
   "id": "286c1573",
   "metadata": {},
   "outputs": [
    {
     "name": "stdout",
     "output_type": "stream",
     "text": [
      "GCN test accuracy: 85.15%\n"
     ]
    }
   ],
   "source": [
    "acc = gcn.test(data)\n",
    "print(f'GCN test accuracy: {acc*100:.2f}%')"
   ]
  },
  {
   "cell_type": "code",
   "execution_count": 91,
   "id": "d16d39bb",
   "metadata": {},
   "outputs": [
    {
     "data": {
      "image/png": "[encoded data removed]",
      "text/plain": [
       "<Figure size 640x480 with 1 Axes>"
      ]
     },
     "metadata": {},
     "output_type": "display_data"
    }
   ],
   "source": [
    "gcn.plot_loss()"
   ]
  }
 ],
 "metadata": {
  "kernelspec": {
   "display_name": "NLP",
   "language": "python",
   "name": "python3"
  },
  "language_info": {
   "codemirror_mode": {
    "name": "ipython",
    "version": 3
   },
   "file_extension": ".py",
   "mimetype": "text/x-python",
   "name": "python",
   "nbconvert_exporter": "python",
   "pygments_lexer": "ipython3",
   "version": "3.10.12"
  }
 },
 "nbformat": 4,
 "nbformat_minor": 5
}
