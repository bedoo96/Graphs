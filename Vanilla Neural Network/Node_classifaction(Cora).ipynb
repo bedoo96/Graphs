{
 "cells": [
  {
   "cell_type": "markdown",
   "id": "b6a5e14f",
   "metadata": {},
   "source": [
    "# Node classification using :\n"
   ]
  },
  {
   "cell_type": "markdown",
   "id": "1bf1756f",
   "metadata": {},
   "source": [
    "## 1- MLP"
   ]
  },
  {
   "cell_type": "markdown",
   "id": "499fa668",
   "metadata": {},
   "source": [
    "<p>This work used two datasets, Cora dataset and Facebook Page-page dataset</p>"
   ]
  },
  {
   "cell_type": "code",
   "execution_count": 1,
   "id": "6990a85d",
   "metadata": {},
   "outputs": [],
   "source": [
    "###n import libraries ###\n",
    "from torch_geometric.datasets import Planetoid, FacebookPagePage\n",
    "import pandas as pd\n",
    "import torch\n",
    "import torch.nn.functional as F\n",
    "from torch.nn import Linear\n",
    "import torch.nn as nn\n",
    "import torch.optim as optim\n",
    "from sklearn.metrics import precision_score\n",
    "from sklearn.metrics import accuracy_score\n",
    "from torch_geometric.utils import to_dense_adj"
   ]
  },
  {
   "cell_type": "code",
   "execution_count": 2,
   "id": "ee1c36d8",
   "metadata": {},
   "outputs": [
    {
     "name": "stdout",
     "output_type": "stream",
     "text": [
      "Dataset: Cora()\n",
      "number of graphs: 1\n",
      "Number of nodes: 2708\n",
      "Number of edges: 10556\n",
      "Number of features: 1433\n",
      "Number of classes: 7\n",
      "Node feature matrix shape: torch.Size([2708, 1433])\n",
      "Edge index : tensor([[ 633, 1862, 2582,  ...,  598, 1473, 2706],\n",
      "        [   0,    0,    0,  ..., 2707, 2707, 2707]])\n"
     ]
    }
   ],
   "source": [
    "### Load the Cora dataset ###\n",
    "dataset = Planetoid(root='.', name='Cora')\n",
    "data = dataset[0]\n",
    "print(f'Dataset: {dataset}')\n",
    "print(f\"number of graphs: {len(dataset)}\")\n",
    "print(f'Number of nodes: {data.num_nodes}')\n",
    "print(f'Number of edges: {data.num_edges}')\n",
    "print(f'Number of features: {data.num_features}')\n",
    "print(f'Number of classes: {dataset.num_classes}')\n",
    "print(f'Node feature matrix shape: {data.x.shape}')\n",
    "print(f\"Edge index : {data.edge_index}\")"
   ]
  },
  {
   "cell_type": "code",
   "execution_count": 3,
   "id": "7b11fd76",
   "metadata": {},
   "outputs": [
    {
     "name": "stdout",
     "output_type": "stream",
     "text": [
      "Data(x=[2708, 1433], edge_index=[2, 10556], y=[2708], train_mask=[2708], val_mask=[2708], test_mask=[2708])\n"
     ]
    }
   ],
   "source": [
    "print(data)"
   ]
  },
  {
   "cell_type": "markdown",
   "id": "3a2a717b",
   "metadata": {},
   "source": [
    "<h5>Graph Analysis</h5>"
   ]
  },
  {
   "cell_type": "code",
   "execution_count": 3,
   "id": "18b3acde",
   "metadata": {},
   "outputs": [
    {
     "name": "stdout",
     "output_type": "stream",
     "text": [
      "Graph :\n",
      "-----------------------------\n",
      "Edges are directed : False\n",
      "Graph has isolated nodes : False\n",
      "Graph has self loops : False\n",
      "Graph is bipartite : False\n",
      "Graph is undirected : True\n"
     ]
    }
   ],
   "source": [
    "print(f'Graph :')\n",
    "print('-----------------------------')\n",
    "print(f'Edges are directed : {data.is_directed()}')\n",
    "print(f'Graph has isolated nodes : {data.has_isolated_nodes()}')\n",
    "print(f'Graph has self loops : {data.has_self_loops()}')\n",
    "print(f'Graph is bipartite : {data.is_bipartite()}')\n",
    "print(f'Graph is undirected : {data.is_undirected()}')\n",
    "# print(f'Graph is heterogenous : {data.is_heterogeneous()}')\n",
    "# print(f'Graph is homogeneous : {data.is_homogeneous()}')"
   ]
  },
  {
   "cell_type": "code",
   "execution_count": null,
   "id": "3b15154d",
   "metadata": {},
   "outputs": [],
   "source": [
    "    ### Convert the objct to a DataFrame ###\n",
    "    ### Node features ###\n",
    "    df_x = pd.DataFrame(data.x.numpy(), columns=[f'feature_{i}' for i in range(data.x.shape[1])])\n",
    "    ### Node labels ###\n",
    "    df_x['label'] = pd.DataFrame(data.y)\n",
    "    "
   ]
  },
  {
   "cell_type": "code",
   "execution_count": 19,
   "id": "6632a2c8",
   "metadata": {},
   "outputs": [
    {
     "data": {
      "text/html": [
       "<div>\n",
       "<style scoped>\n",
       "    .dataframe tbody tr th:only-of-type {\n",
       "        vertical-align: middle;\n",
       "    }\n",
       "\n",
       "    .dataframe tbody tr th {\n",
       "        vertical-align: top;\n",
       "    }\n",
       "\n",
       "    .dataframe thead th {\n",
       "        text-align: right;\n",
       "    }\n",
       "</style>\n",
       "<table border=\"1\" class=\"dataframe\">\n",
       "  <thead>\n",
       "    <tr style=\"text-align: right;\">\n",
       "      <th></th>\n",
       "      <th>feature_0</th>\n",
       "      <th>feature_1</th>\n",
       "      <th>feature_2</th>\n",
       "      <th>feature_3</th>\n",
       "      <th>feature_4</th>\n",
       "      <th>feature_5</th>\n",
       "      <th>feature_6</th>\n",
       "      <th>feature_7</th>\n",
       "      <th>feature_8</th>\n",
       "      <th>feature_9</th>\n",
       "      <th>...</th>\n",
       "      <th>feature_1424</th>\n",
       "      <th>feature_1425</th>\n",
       "      <th>feature_1426</th>\n",
       "      <th>feature_1427</th>\n",
       "      <th>feature_1428</th>\n",
       "      <th>feature_1429</th>\n",
       "      <th>feature_1430</th>\n",
       "      <th>feature_1431</th>\n",
       "      <th>feature_1432</th>\n",
       "      <th>label</th>\n",
       "    </tr>\n",
       "  </thead>\n",
       "  <tbody>\n",
       "    <tr>\n",
       "      <th>0</th>\n",
       "      <td>0.0</td>\n",
       "      <td>0.0</td>\n",
       "      <td>0.0</td>\n",
       "      <td>0.0</td>\n",
       "      <td>0.0</td>\n",
       "      <td>0.0</td>\n",
       "      <td>0.0</td>\n",
       "      <td>0.0</td>\n",
       "      <td>0.0</td>\n",
       "      <td>0.0</td>\n",
       "      <td>...</td>\n",
       "      <td>0.0</td>\n",
       "      <td>0.0</td>\n",
       "      <td>0.0</td>\n",
       "      <td>0.0</td>\n",
       "      <td>0.0</td>\n",
       "      <td>0.0</td>\n",
       "      <td>0.0</td>\n",
       "      <td>0.0</td>\n",
       "      <td>0.0</td>\n",
       "      <td>3</td>\n",
       "    </tr>\n",
       "    <tr>\n",
       "      <th>1</th>\n",
       "      <td>0.0</td>\n",
       "      <td>0.0</td>\n",
       "      <td>0.0</td>\n",
       "      <td>0.0</td>\n",
       "      <td>0.0</td>\n",
       "      <td>0.0</td>\n",
       "      <td>0.0</td>\n",
       "      <td>0.0</td>\n",
       "      <td>0.0</td>\n",
       "      <td>0.0</td>\n",
       "      <td>...</td>\n",
       "      <td>0.0</td>\n",
       "      <td>0.0</td>\n",
       "      <td>0.0</td>\n",
       "      <td>0.0</td>\n",
       "      <td>0.0</td>\n",
       "      <td>0.0</td>\n",
       "      <td>0.0</td>\n",
       "      <td>0.0</td>\n",
       "      <td>0.0</td>\n",
       "      <td>4</td>\n",
       "    </tr>\n",
       "    <tr>\n",
       "      <th>2</th>\n",
       "      <td>0.0</td>\n",
       "      <td>0.0</td>\n",
       "      <td>0.0</td>\n",
       "      <td>0.0</td>\n",
       "      <td>0.0</td>\n",
       "      <td>0.0</td>\n",
       "      <td>0.0</td>\n",
       "      <td>0.0</td>\n",
       "      <td>0.0</td>\n",
       "      <td>0.0</td>\n",
       "      <td>...</td>\n",
       "      <td>0.0</td>\n",
       "      <td>0.0</td>\n",
       "      <td>0.0</td>\n",
       "      <td>0.0</td>\n",
       "      <td>0.0</td>\n",
       "      <td>0.0</td>\n",
       "      <td>0.0</td>\n",
       "      <td>0.0</td>\n",
       "      <td>0.0</td>\n",
       "      <td>4</td>\n",
       "    </tr>\n",
       "    <tr>\n",
       "      <th>3</th>\n",
       "      <td>0.0</td>\n",
       "      <td>0.0</td>\n",
       "      <td>0.0</td>\n",
       "      <td>0.0</td>\n",
       "      <td>0.0</td>\n",
       "      <td>0.0</td>\n",
       "      <td>0.0</td>\n",
       "      <td>0.0</td>\n",
       "      <td>0.0</td>\n",
       "      <td>0.0</td>\n",
       "      <td>...</td>\n",
       "      <td>0.0</td>\n",
       "      <td>0.0</td>\n",
       "      <td>0.0</td>\n",
       "      <td>0.0</td>\n",
       "      <td>0.0</td>\n",
       "      <td>0.0</td>\n",
       "      <td>0.0</td>\n",
       "      <td>0.0</td>\n",
       "      <td>0.0</td>\n",
       "      <td>0</td>\n",
       "    </tr>\n",
       "    <tr>\n",
       "      <th>4</th>\n",
       "      <td>0.0</td>\n",
       "      <td>0.0</td>\n",
       "      <td>0.0</td>\n",
       "      <td>1.0</td>\n",
       "      <td>0.0</td>\n",
       "      <td>0.0</td>\n",
       "      <td>0.0</td>\n",
       "      <td>0.0</td>\n",
       "      <td>0.0</td>\n",
       "      <td>0.0</td>\n",
       "      <td>...</td>\n",
       "      <td>0.0</td>\n",
       "      <td>0.0</td>\n",
       "      <td>0.0</td>\n",
       "      <td>0.0</td>\n",
       "      <td>0.0</td>\n",
       "      <td>0.0</td>\n",
       "      <td>0.0</td>\n",
       "      <td>0.0</td>\n",
       "      <td>0.0</td>\n",
       "      <td>3</td>\n",
       "    </tr>\n",
       "  </tbody>\n",
       "</table>\n",
       "<p>5 rows × 1434 columns</p>\n",
       "</div>"
      ],
      "text/plain": [
       "   feature_0  feature_1  feature_2  feature_3  feature_4  feature_5  \\\n",
       "0        0.0        0.0        0.0        0.0        0.0        0.0   \n",
       "1        0.0        0.0        0.0        0.0        0.0        0.0   \n",
       "2        0.0        0.0        0.0        0.0        0.0        0.0   \n",
       "3        0.0        0.0        0.0        0.0        0.0        0.0   \n",
       "4        0.0        0.0        0.0        1.0        0.0        0.0   \n",
       "\n",
       "   feature_6  feature_7  feature_8  feature_9  ...  feature_1424  \\\n",
       "0        0.0        0.0        0.0        0.0  ...           0.0   \n",
       "1        0.0        0.0        0.0        0.0  ...           0.0   \n",
       "2        0.0        0.0        0.0        0.0  ...           0.0   \n",
       "3        0.0        0.0        0.0        0.0  ...           0.0   \n",
       "4        0.0        0.0        0.0        0.0  ...           0.0   \n",
       "\n",
       "   feature_1425  feature_1426  feature_1427  feature_1428  feature_1429  \\\n",
       "0           0.0           0.0           0.0           0.0           0.0   \n",
       "1           0.0           0.0           0.0           0.0           0.0   \n",
       "2           0.0           0.0           0.0           0.0           0.0   \n",
       "3           0.0           0.0           0.0           0.0           0.0   \n",
       "4           0.0           0.0           0.0           0.0           0.0   \n",
       "\n",
       "   feature_1430  feature_1431  feature_1432  label  \n",
       "0           0.0           0.0           0.0      3  \n",
       "1           0.0           0.0           0.0      4  \n",
       "2           0.0           0.0           0.0      4  \n",
       "3           0.0           0.0           0.0      0  \n",
       "4           0.0           0.0           0.0      3  \n",
       "\n",
       "[5 rows x 1434 columns]"
      ]
     },
     "execution_count": 19,
     "metadata": {},
     "output_type": "execute_result"
    }
   ],
   "source": [
    "### print node_features and labels###\n",
    "df_x.to_csv('node_features.csv', index=False)\n",
    "df_x.head()"
   ]
  },
  {
   "cell_type": "code",
   "execution_count": null,
   "id": "dd514746",
   "metadata": {},
   "outputs": [
    {
     "data": {
      "text/html": [
       "<div>\n",
       "<style scoped>\n",
       "    .dataframe tbody tr th:only-of-type {\n",
       "        vertical-align: middle;\n",
       "    }\n",
       "\n",
       "    .dataframe tbody tr th {\n",
       "        vertical-align: top;\n",
       "    }\n",
       "\n",
       "    .dataframe thead th {\n",
       "        text-align: right;\n",
       "    }\n",
       "</style>\n",
       "<table border=\"1\" class=\"dataframe\">\n",
       "  <thead>\n",
       "    <tr style=\"text-align: right;\">\n",
       "      <th></th>\n",
       "      <th>source</th>\n",
       "      <th>target</th>\n",
       "    </tr>\n",
       "  </thead>\n",
       "  <tbody>\n",
       "    <tr>\n",
       "      <th>0</th>\n",
       "      <td>633</td>\n",
       "      <td>0</td>\n",
       "    </tr>\n",
       "    <tr>\n",
       "      <th>1</th>\n",
       "      <td>1862</td>\n",
       "      <td>0</td>\n",
       "    </tr>\n",
       "    <tr>\n",
       "      <th>2</th>\n",
       "      <td>2582</td>\n",
       "      <td>0</td>\n",
       "    </tr>\n",
       "    <tr>\n",
       "      <th>3</th>\n",
       "      <td>2</td>\n",
       "      <td>1</td>\n",
       "    </tr>\n",
       "    <tr>\n",
       "      <th>4</th>\n",
       "      <td>652</td>\n",
       "      <td>1</td>\n",
       "    </tr>\n",
       "  </tbody>\n",
       "</table>\n",
       "</div>"
      ],
      "text/plain": [
       "   source  target\n",
       "0     633       0\n",
       "1    1862       0\n",
       "2    2582       0\n",
       "3       2       1\n",
       "4     652       1"
      ]
     },
     "execution_count": 20,
     "metadata": {},
     "output_type": "execute_result"
    }
   ],
   "source": [
    "### Edge features ###\n",
    "edge_index = data.edge_index.numpy()\n",
    "edge_index_df = pd.DataFrame(edge_index.T, columns=['source', 'target'])\n",
    "edge_index_df.to_csv('edge_index.csv', index=False)\n",
    "edge_index_df.head()"
   ]
  },
  {
   "cell_type": "code",
   "execution_count": 6,
   "id": "25797eb6",
   "metadata": {},
   "outputs": [],
   "source": [
    "data.train_mask = range(1400)\n",
    "data.val_mask = range(1401, 2000)\n",
    "data.test_mask = range(2001, 2708)"
   ]
  },
  {
   "cell_type": "code",
   "execution_count": 7,
   "id": "8e17c3bf",
   "metadata": {},
   "outputs": [],
   "source": [
    "### Let's define a metric the classifaction  ###\n",
    "\n",
    "def accuracy(y_pred, y_true):\n",
    "    preds = y_pred.argmax(dim=1)\n",
    "    correct = (preds == y_true).sum()\n",
    "    return correct.float() / len(y_true)"
   ]
  },
  {
   "cell_type": "code",
   "execution_count": 8,
   "id": "c8249fbc",
   "metadata": {},
   "outputs": [],
   "source": [
    "### Create MLP class ###\n",
    "import matplotlib.pyplot as plt\n",
    "\n",
    "class MLP(nn.Module):\n",
    "    def __init__(self, dim_in, dim_hid, dim_out):\n",
    "        super().__init__()\n",
    "        self.fc1 = Linear(dim_in, dim_hid)\n",
    "        self.fc2 = Linear(dim_hid, dim_out)\n",
    "\n",
    "        # Initialize history for plotting\n",
    "        self.train_losses = []\n",
    "        self.val_losses = []\n",
    "        self.val_accuracies = []\n",
    "\n",
    "    def forward(self, x):\n",
    "        x = self.fc1(x)\n",
    "        x = torch.relu(x)\n",
    "        x = self.fc2(x)\n",
    "        return F.log_softmax(x, dim=1)\n",
    "\n",
    "    ### Training function with history tracking ###\n",
    "    def fit(self, data, epochs):\n",
    "        criterion = torch.nn.CrossEntropyLoss()\n",
    "        optimizer = torch.optim.Adam(self.parameters(), lr=0.01, weight_decay=5e-4)\n",
    "        self.train()\n",
    "\n",
    "        for epoch in range(epochs + 1):\n",
    "            optimizer.zero_grad()\n",
    "            out = self(data.x)\n",
    "            loss = criterion(out[data.train_mask], data.y[data.train_mask])\n",
    "            loss.backward()\n",
    "            optimizer.step()\n",
    "\n",
    "            # Track losses and accuracy\n",
    "            val_loss = criterion(out[data.val_mask], data.y[data.val_mask]).item()\n",
    "            val_acc = accuracy(out[data.val_mask], data.y[data.val_mask]).item()\n",
    "\n",
    "            self.train_losses.append(loss.item())\n",
    "            self.val_losses.append(val_loss)\n",
    "            self.val_accuracies.append(val_acc)\n",
    "\n",
    "            if epoch % 20 == 0:\n",
    "                print(f'Epoch {epoch:>3} | Train Loss: {loss.item():.3f}, Val Loss: {val_loss:.2f}, Val Acc: {val_acc*100:.2f}%')\n",
    "\n",
    "    ### Evaluate the model ###\n",
    "    def evaluate(self, data):\n",
    "        self.eval()\n",
    "        out = self(data.x)\n",
    "        acc = accuracy(out[data.test_mask], data.y[data.test_mask])\n",
    "        return acc.item()\n",
    "\n",
    "    ### Plot Loss ###\n",
    "    def plot_loss(self):\n",
    "        plt.figure(figsize=(8,5))\n",
    "        plt.plot(self.train_losses, label='Train Loss')\n",
    "        plt.plot(self.val_losses, label='Validation Loss')\n",
    "        plt.xlabel('Epochs')\n",
    "        plt.ylabel('Loss')\n",
    "        plt.title('Loss Curve')\n",
    "        plt.legend()\n",
    "        plt.show()\n",
    "\n",
    "    ### Plot Accuracy ###\n",
    "    def plot_accuracy(self):\n",
    "        plt.figure(figsize=(8,5))\n",
    "        plt.plot(self.val_accuracies, label='Validation Accuracy')\n",
    "        plt.xlabel('Epochs')\n",
    "        plt.ylabel('Accuracy')\n",
    "        plt.title('Validation Accuracy Curve')\n",
    "        plt.legend()\n",
    "        plt.show()\n",
    "\n",
    "    ### Plot ROC AUC ###    \n",
    "    def plot_roc_auc(self, data):\n",
    "        self.eval()\n",
    "        out = self(data.x)\n",
    "        y_true = data.y[data.test_mask].numpy()\n",
    "        y_scores = out[data.test_mask].detach().numpy()\n",
    "        \n",
    "        # Compute ROC curve and ROC area\n",
    "        fpr, tpr, _ = roc_curve(y_true, y_scores[:, 1], pos_label=1)\n",
    "        roc_auc = auc(fpr, tpr)\n",
    "\n",
    "        plt.figure(figsize=(8,5))\n",
    "        plt.plot(fpr, tpr, label='ROC curve (area = %0.2f)' % roc_auc)\n",
    "        plt.plot([0, 1], [0, 1], 'k--')\n",
    "        plt.xlim([0.0, 1.0])\n",
    "        plt.ylim([0.0, 1.05])\n",
    "        plt.xlabel('False Positive Rate')\n",
    "        plt.ylabel('True Positive Rate')\n",
    "        plt.title('Receiver Operating Characteristic')\n",
    "        plt.legend(loc='lower right')\n",
    "        plt.show()\n"
   ]
  },
  {
   "cell_type": "code",
   "execution_count": 9,
   "id": "4049d2eb",
   "metadata": {},
   "outputs": [
    {
     "name": "stdout",
     "output_type": "stream",
     "text": [
      "MLP(\n",
      "  (fc1): Linear(in_features=1433, out_features=16, bias=True)\n",
      "  (fc2): Linear(in_features=16, out_features=7, bias=True)\n",
      ")\n"
     ]
    }
   ],
   "source": [
    "### Create MLP instance ###\n",
    "\n",
    "mlp = MLP (dataset.num_features, 16, dataset.num_classes)\n",
    "print(mlp)"
   ]
  },
  {
   "cell_type": "code",
   "execution_count": 10,
   "id": "bc0c37ef",
   "metadata": {},
   "outputs": [
    {
     "name": "stdout",
     "output_type": "stream",
     "text": [
      "Epoch   0 | Train Loss: 1.923, Val Loss: 1.92, Val Acc: 11.69%\n",
      "Epoch  20 | Train Loss: 0.362, Val Loss: 0.81, Val Acc: 75.96%\n",
      "Epoch  40 | Train Loss: 0.067, Val Loss: 0.73, Val Acc: 75.63%\n",
      "Epoch  60 | Train Loss: 0.047, Val Loss: 0.73, Val Acc: 75.63%\n",
      "Epoch  80 | Train Loss: 0.042, Val Loss: 0.73, Val Acc: 75.79%\n",
      "Epoch 100 | Train Loss: 0.036, Val Loss: 0.74, Val Acc: 76.63%\n"
     ]
    }
   ],
   "source": [
    "mlp.fit(data, epochs=100)"
   ]
  },
  {
   "cell_type": "code",
   "execution_count": 11,
   "id": "ea85f5e7",
   "metadata": {},
   "outputs": [
    {
     "data": {
      "image/png": "[encoded data removed]",
      "text/plain": [
       "<Figure size 800x500 with 1 Axes>"
      ]
     },
     "metadata": {},
     "output_type": "display_data"
    },
    {
     "data": {
      "image/png": "[encoded data removed]",
      "text/plain": [
       "<Figure size 800x500 with 1 Axes>"
      ]
     },
     "metadata": {},
     "output_type": "display_data"
    }
   ],
   "source": [
    "import matplotlib.pyplot as plt\n",
    "mlp.plot_loss()\n",
    "mlp.plot_accuracy()"
   ]
  },
  {
   "cell_type": "code",
   "execution_count": 12,
   "id": "beb96df8",
   "metadata": {},
   "outputs": [
    {
     "name": "stdout",
     "output_type": "stream",
     "text": [
      "Test Accuracy: 71.29%\n"
     ]
    }
   ],
   "source": [
    "acc = mlp.evaluate(data)\n",
    "print(f'Test Accuracy: {acc * 100:.2f}%')"
   ]
  },
  {
   "cell_type": "markdown",
   "id": "871fc494",
   "metadata": {},
   "source": [
    "## Facebook Page-Page dataset"
   ]
  },
  {
   "cell_type": "code",
   "execution_count": 12,
   "id": "58b2a583",
   "metadata": {},
   "outputs": [],
   "source": [
    "### Let's Load the Facebook dataset ###\n",
    "dataset = FacebookPagePage(root='.')\n",
    "data1 = dataset[0]"
   ]
  },
  {
   "cell_type": "code",
   "execution_count": 13,
   "id": "c7a0a6d1",
   "metadata": {},
   "outputs": [
    {
     "name": "stdout",
     "output_type": "stream",
     "text": [
      "Dataset: FacebookPagePage()\n",
      "Number of Graph: 1\n",
      "Number of nodes: 22470\n",
      "Number of edges: 342004\n",
      "Number of features: 128\n",
      "Number of classes: 4\n",
      "Node feature matrix shape: torch.Size([22470, 128])\n"
     ]
    }
   ],
   "source": [
    "### Dataset Analysis ###\n",
    "print(f'Dataset: {dataset}')\n",
    "print(f'Number of Graph: {len(dataset)}')\n",
    "print(f'Number of nodes: {data1.num_nodes}')\n",
    "print(f'Number of edges: {data1.num_edges}')\n",
    "print(f'Number of features: {data1.num_features}')\n",
    "print(f'Number of classes: {dataset1.num_classes}')\n",
    "print(f'Node feature matrix shape: {data1.x.shape}')"
   ]
  },
  {
   "cell_type": "code",
   "execution_count": 17,
   "id": "b339da07",
   "metadata": {},
   "outputs": [
    {
     "name": "stdout",
     "output_type": "stream",
     "text": [
      "Graph :\n",
      "-----------------------------\n",
      "Edges are directed : False\n",
      "Graph has isolated nodes : False\n",
      "Graph has self loops : True\n",
      "Graph is bipartite : False\n",
      "Graph is undirected : True\n"
     ]
    }
   ],
   "source": [
    "print(f'Graph :')\n",
    "print('-----------------------------')\n",
    "print(f'Edges are directed : {data1.is_directed()}')\n",
    "print(f'Graph has isolated nodes : {data1.has_isolated_nodes()}')\n",
    "print(f'Graph has self loops : {data1.has_self_loops()}')\n",
    "print(f'Graph is bipartite : {data1.is_bipartite()}')\n",
    "print(f'Graph is undirected : {data1.is_undirected()}')"
   ]
  },
  {
   "cell_type": "code",
   "execution_count": 18,
   "id": "b07fb7cf",
   "metadata": {},
   "outputs": [],
   "source": [
    "    ### Convert the objct to a DataFrame ###\n",
    "    ### Node features ###\n",
    "    df_x = pd.DataFrame(data1.x.numpy(), columns=[f'feature_{i}' for i in range(data1.x.shape[1])])\n",
    "    ### Node labels ###\n",
    "    df_x['label'] = pd.DataFrame(data1.y)"
   ]
  },
  {
   "cell_type": "code",
   "execution_count": 19,
   "id": "981c9f8c",
   "metadata": {},
   "outputs": [
    {
     "data": {
      "text/html": [
       "<div>\n",
       "<style scoped>\n",
       "    .dataframe tbody tr th:only-of-type {\n",
       "        vertical-align: middle;\n",
       "    }\n",
       "\n",
       "    .dataframe tbody tr th {\n",
       "        vertical-align: top;\n",
       "    }\n",
       "\n",
       "    .dataframe thead th {\n",
       "        text-align: right;\n",
       "    }\n",
       "</style>\n",
       "<table border=\"1\" class=\"dataframe\">\n",
       "  <thead>\n",
       "    <tr style=\"text-align: right;\">\n",
       "      <th></th>\n",
       "      <th>feature_0</th>\n",
       "      <th>feature_1</th>\n",
       "      <th>feature_2</th>\n",
       "      <th>feature_3</th>\n",
       "      <th>feature_4</th>\n",
       "      <th>feature_5</th>\n",
       "      <th>feature_6</th>\n",
       "      <th>feature_7</th>\n",
       "      <th>feature_8</th>\n",
       "      <th>feature_9</th>\n",
       "      <th>...</th>\n",
       "      <th>feature_119</th>\n",
       "      <th>feature_120</th>\n",
       "      <th>feature_121</th>\n",
       "      <th>feature_122</th>\n",
       "      <th>feature_123</th>\n",
       "      <th>feature_124</th>\n",
       "      <th>feature_125</th>\n",
       "      <th>feature_126</th>\n",
       "      <th>feature_127</th>\n",
       "      <th>label</th>\n",
       "    </tr>\n",
       "  </thead>\n",
       "  <tbody>\n",
       "    <tr>\n",
       "      <th>0</th>\n",
       "      <td>-0.262576</td>\n",
       "      <td>-0.276483</td>\n",
       "      <td>-0.262350</td>\n",
       "      <td>-0.299327</td>\n",
       "      <td>-0.299159</td>\n",
       "      <td>-0.270681</td>\n",
       "      <td>-0.307757</td>\n",
       "      <td>-0.269733</td>\n",
       "      <td>-0.25101</td>\n",
       "      <td>-0.308343</td>\n",
       "      <td>...</td>\n",
       "      <td>-0.273229</td>\n",
       "      <td>-0.223700</td>\n",
       "      <td>-0.284379</td>\n",
       "      <td>-0.224216</td>\n",
       "      <td>-0.209509</td>\n",
       "      <td>-0.255755</td>\n",
       "      <td>-0.21514</td>\n",
       "      <td>-0.375903</td>\n",
       "      <td>-0.223836</td>\n",
       "      <td>0</td>\n",
       "    </tr>\n",
       "    <tr>\n",
       "      <th>1</th>\n",
       "      <td>-0.262576</td>\n",
       "      <td>-0.276483</td>\n",
       "      <td>-0.262350</td>\n",
       "      <td>-0.299327</td>\n",
       "      <td>-0.299159</td>\n",
       "      <td>-0.270681</td>\n",
       "      <td>-0.307757</td>\n",
       "      <td>-0.269733</td>\n",
       "      <td>-0.25101</td>\n",
       "      <td>-0.308343</td>\n",
       "      <td>...</td>\n",
       "      <td>-0.234818</td>\n",
       "      <td>-0.223700</td>\n",
       "      <td>-0.284379</td>\n",
       "      <td>-0.197935</td>\n",
       "      <td>-0.147256</td>\n",
       "      <td>-0.255755</td>\n",
       "      <td>-0.21514</td>\n",
       "      <td>-0.364134</td>\n",
       "      <td>-0.128634</td>\n",
       "      <td>2</td>\n",
       "    </tr>\n",
       "    <tr>\n",
       "      <th>2</th>\n",
       "      <td>-0.262576</td>\n",
       "      <td>-0.265053</td>\n",
       "      <td>-0.262350</td>\n",
       "      <td>-0.299327</td>\n",
       "      <td>-0.299159</td>\n",
       "      <td>-0.270681</td>\n",
       "      <td>-0.307757</td>\n",
       "      <td>-0.210461</td>\n",
       "      <td>-0.25101</td>\n",
       "      <td>3.222161</td>\n",
       "      <td>...</td>\n",
       "      <td>-0.273229</td>\n",
       "      <td>-0.223700</td>\n",
       "      <td>-0.284379</td>\n",
       "      <td>-0.224216</td>\n",
       "      <td>-0.209509</td>\n",
       "      <td>-0.255755</td>\n",
       "      <td>-0.21514</td>\n",
       "      <td>-0.375903</td>\n",
       "      <td>-0.223836</td>\n",
       "      <td>1</td>\n",
       "    </tr>\n",
       "    <tr>\n",
       "      <th>3</th>\n",
       "      <td>-0.246378</td>\n",
       "      <td>-0.276483</td>\n",
       "      <td>-0.241991</td>\n",
       "      <td>-0.299327</td>\n",
       "      <td>-0.299159</td>\n",
       "      <td>-0.270681</td>\n",
       "      <td>-0.307051</td>\n",
       "      <td>-0.269733</td>\n",
       "      <td>-0.25101</td>\n",
       "      <td>-0.308343</td>\n",
       "      <td>...</td>\n",
       "      <td>-0.273229</td>\n",
       "      <td>-0.223700</td>\n",
       "      <td>-0.265534</td>\n",
       "      <td>-0.080353</td>\n",
       "      <td>-0.209509</td>\n",
       "      <td>-0.250560</td>\n",
       "      <td>-0.18026</td>\n",
       "      <td>-0.375903</td>\n",
       "      <td>-0.223836</td>\n",
       "      <td>2</td>\n",
       "    </tr>\n",
       "    <tr>\n",
       "      <th>4</th>\n",
       "      <td>-0.262576</td>\n",
       "      <td>-0.276483</td>\n",
       "      <td>-0.262350</td>\n",
       "      <td>-0.299327</td>\n",
       "      <td>-0.299159</td>\n",
       "      <td>-0.270681</td>\n",
       "      <td>-0.307757</td>\n",
       "      <td>-0.269733</td>\n",
       "      <td>-0.25101</td>\n",
       "      <td>-0.308343</td>\n",
       "      <td>...</td>\n",
       "      <td>-0.273229</td>\n",
       "      <td>-0.175312</td>\n",
       "      <td>-0.272613</td>\n",
       "      <td>-0.224216</td>\n",
       "      <td>-0.181153</td>\n",
       "      <td>-0.255755</td>\n",
       "      <td>-0.21514</td>\n",
       "      <td>-0.370639</td>\n",
       "      <td>-0.223836</td>\n",
       "      <td>3</td>\n",
       "    </tr>\n",
       "  </tbody>\n",
       "</table>\n",
       "<p>5 rows × 129 columns</p>\n",
       "</div>"
      ],
      "text/plain": [
       "   feature_0  feature_1  feature_2  feature_3  feature_4  feature_5  \\\n",
       "0  -0.262576  -0.276483  -0.262350  -0.299327  -0.299159  -0.270681   \n",
       "1  -0.262576  -0.276483  -0.262350  -0.299327  -0.299159  -0.270681   \n",
       "2  -0.262576  -0.265053  -0.262350  -0.299327  -0.299159  -0.270681   \n",
       "3  -0.246378  -0.276483  -0.241991  -0.299327  -0.299159  -0.270681   \n",
       "4  -0.262576  -0.276483  -0.262350  -0.299327  -0.299159  -0.270681   \n",
       "\n",
       "   feature_6  feature_7  feature_8  feature_9  ...  feature_119  feature_120  \\\n",
       "0  -0.307757  -0.269733   -0.25101  -0.308343  ...    -0.273229    -0.223700   \n",
       "1  -0.307757  -0.269733   -0.25101  -0.308343  ...    -0.234818    -0.223700   \n",
       "2  -0.307757  -0.210461   -0.25101   3.222161  ...    -0.273229    -0.223700   \n",
       "3  -0.307051  -0.269733   -0.25101  -0.308343  ...    -0.273229    -0.223700   \n",
       "4  -0.307757  -0.269733   -0.25101  -0.308343  ...    -0.273229    -0.175312   \n",
       "\n",
       "   feature_121  feature_122  feature_123  feature_124  feature_125  \\\n",
       "0    -0.284379    -0.224216    -0.209509    -0.255755     -0.21514   \n",
       "1    -0.284379    -0.197935    -0.147256    -0.255755     -0.21514   \n",
       "2    -0.284379    -0.224216    -0.209509    -0.255755     -0.21514   \n",
       "3    -0.265534    -0.080353    -0.209509    -0.250560     -0.18026   \n",
       "4    -0.272613    -0.224216    -0.181153    -0.255755     -0.21514   \n",
       "\n",
       "   feature_126  feature_127  label  \n",
       "0    -0.375903    -0.223836      0  \n",
       "1    -0.364134    -0.128634      2  \n",
       "2    -0.375903    -0.223836      1  \n",
       "3    -0.375903    -0.223836      2  \n",
       "4    -0.370639    -0.223836      3  \n",
       "\n",
       "[5 rows x 129 columns]"
      ]
     },
     "execution_count": 19,
     "metadata": {},
     "output_type": "execute_result"
    }
   ],
   "source": [
    "df_x.head()\n"
   ]
  },
  {
   "cell_type": "code",
   "execution_count": 20,
   "id": "fb13ba4e",
   "metadata": {},
   "outputs": [],
   "source": [
    "data1.train_mask = range(18000)\n",
    "data1.val_mask = range(18001, 20000)\n",
    "data1.test_mask = range(20001, 22470)"
   ]
  },
  {
   "cell_type": "code",
   "execution_count": 21,
   "id": "ba145927",
   "metadata": {},
   "outputs": [
    {
     "name": "stdout",
     "output_type": "stream",
     "text": [
      "MLP(\n",
      "  (fc1): Linear(in_features=128, out_features=16, bias=True)\n",
      "  (fc2): Linear(in_features=16, out_features=4, bias=True)\n",
      ")\n"
     ]
    }
   ],
   "source": [
    "mlp1 = MLP(dataset.num_features, 16, dataset.num_classes)\n",
    "print(mlp1)"
   ]
  },
  {
   "cell_type": "code",
   "execution_count": 22,
   "id": "332c1a15",
   "metadata": {},
   "outputs": [
    {
     "name": "stdout",
     "output_type": "stream",
     "text": [
      "Epoch   0 | Train Loss: 1.442, Val Loss: 1.45, Val Acc: 25.46%\n",
      "Epoch  20 | Train Loss: 0.671, Val Loss: 0.69, Val Acc: 72.99%\n",
      "Epoch  40 | Train Loss: 0.581, Val Loss: 0.62, Val Acc: 74.79%\n",
      "Epoch  60 | Train Loss: 0.552, Val Loss: 0.61, Val Acc: 75.24%\n",
      "Epoch  80 | Train Loss: 0.535, Val Loss: 0.60, Val Acc: 75.64%\n",
      "Epoch 100 | Train Loss: 0.522, Val Loss: 0.61, Val Acc: 75.74%\n"
     ]
    },
    {
     "data": {
      "image/png": "[encoded data removed]",
      "text/plain": [
       "<Figure size 800x500 with 1 Axes>"
      ]
     },
     "metadata": {},
     "output_type": "display_data"
    },
    {
     "data": {
      "image/png": "[encoded data removed]",
      "text/plain": [
       "<Figure size 800x500 with 1 Axes>"
      ]
     },
     "metadata": {},
     "output_type": "display_data"
    }
   ],
   "source": [
    "### Let's train the Facebook dataset ###\n",
    "mlp1.fit(data1, epochs=100)\n",
    "\n",
    "mlp1.plot_loss()\n",
    "mlp1.plot_accuracy()"
   ]
  },
  {
   "cell_type": "code",
   "execution_count": 23,
   "id": "735ed1b9",
   "metadata": {},
   "outputs": [
    {
     "name": "stdout",
     "output_type": "stream",
     "text": [
      "Test Accuracy: 74.73%\n"
     ]
    }
   ],
   "source": [
    "acc = mlp1.evaluate(data1)\n",
    "print(f'Test Accuracy: {acc * 100:.2f}%')"
   ]
  },
  {
   "cell_type": "markdown",
   "id": "7a252043",
   "metadata": {},
   "source": [
    "## 2 - Vanilla Neural Network Implementation"
   ]
  },
  {
   "cell_type": "code",
   "execution_count": 13,
   "id": "695214e5",
   "metadata": {},
   "outputs": [],
   "source": [
    "### Create Vanilla GNN class ###\n",
    "\n",
    "class VanillaGNNLayer (nn.Module):\n",
    "    def __init__(self, dim_in, dim_out):\n",
    "        super().__init__()\n",
    "        self.linear = Linear(dim_in, dim_out, bias = False)\n",
    "\n",
    "    def forward(self, x, adjency):\n",
    "        x = self.linear(x)\n",
    "        x = torch.sparse.mm(adjency, x)\n",
    "        return x"
   ]
  },
  {
   "cell_type": "markdown",
   "id": "b42630ec",
   "metadata": {},
   "source": [
    "<h5>Let's convert the edge index in coordinate format to a dense adjency matrix, note that the adgency matrix is useful because in maintain the connections between every node in the graph</h5>"
   ]
  },
  {
   "cell_type": "code",
   "execution_count": 14,
   "id": "79559047",
   "metadata": {},
   "outputs": [
    {
     "data": {
      "text/plain": [
       "tensor([[0., 0., 0.,  ..., 0., 0., 0.],\n",
       "        [0., 0., 1.,  ..., 0., 0., 0.],\n",
       "        [0., 1., 0.,  ..., 0., 0., 0.],\n",
       "        ...,\n",
       "        [0., 0., 0.,  ..., 0., 0., 0.],\n",
       "        [0., 0., 0.,  ..., 0., 0., 1.],\n",
       "        [0., 0., 0.,  ..., 0., 1., 0.]])"
      ]
     },
     "execution_count": 14,
     "metadata": {},
     "output_type": "execute_result"
    }
   ],
   "source": [
    "adjancy = to_dense_adj(data.edge_index)[0]\n",
    "adjancy + torch.eye(len(adjancy))\n",
    "adjancy"
   ]
  },
  {
   "cell_type": "code",
   "execution_count": 16,
   "id": "49eb9bdc",
   "metadata": {},
   "outputs": [],
   "source": [
    "class VanillaGNN(nn.Module):\n",
    "    def __init__(self, dim_in, dim_h, dim_out):\n",
    "        super().__init__()\n",
    "        self.gnn1 = VanillaGNNLayer(dim_in, dim_h)\n",
    "        self.gnn2 = VanillaGNNLayer(dim_h, dim_out)\n",
    "\n",
    "        # Initialize history for plotting\n",
    "        self.train_losses = []\n",
    "        self.val_losses = []\n",
    "        self.val_accuracies = []\n",
    "\n",
    "    def forward(self, x, adjancy):\n",
    "        h = self.gnn1(x, adjancy)\n",
    "        h = torch.relu(h)\n",
    "        h = self.gnn2(h, adjancy)\n",
    "        return F.log_softmax(h, dim=1)\n",
    "\n",
    "\n",
    "    ### Training function with history tracking ###lo\n",
    "    def fit(self, data, epochs):\n",
    "        criterion = torch.nn.CrossEntropyLoss()\n",
    "        optimizer = torch.optim.Adam(self.parameters(), lr=0.01, weight_decay = 5e-4)\n",
    "        self.train()\n",
    "        for epoch in range(epochs + 1):\n",
    "            optimizer.zero_grad() # clear the gradients\n",
    "            out = self(data.x, adjancy)\n",
    "            loss = criterion(out[data.train_mask], data.y[data.train_mask])\n",
    "            loss.backward()\n",
    "            optimizer.step()\n",
    "\n",
    "            # Track losses and accuracy\n",
    "            val_loss = criterion(out[data.val_mask], data.y[data.val_mask]).item()\n",
    "            val_acc = accuracy(out[data.val_mask], data.y[data.val_mask]).item()\n",
    "\n",
    "            self.train_losses.append(loss.item())\n",
    "            self.val_losses.append(val_loss)\n",
    "            self.val_accuracies.append(val_acc)\n",
    "\n",
    "            if epoch % 20 == 0:\n",
    "                print(f'Epoch {epoch:>3} | Train Loss: {loss.item():.3f}, Val Loss: {val_loss:.2f}, Val Acc: {val_acc*100:.2f}%')\n",
    "\n",
    "    ### Evaluate the model ###\n",
    "    def evaluate(self, data):\n",
    "        self.eval()\n",
    "        out = self(data.x, adjancy)\n",
    "        acc = accuracy(out[data.test_mask], data.y[data.test_mask])\n",
    "        return acc\n",
    "\n",
    "    ### Plot Loss ###\n",
    "    def plot_loss(self):\n",
    "        plt.figure(figsize =(8,5))\n",
    "        plt.plot(self.train_losses, label='Train loss')\n",
    "        plt.plot(self.val_losses, label= 'validation loss')\n",
    "        plt.xlabel('Epochs')\n",
    "        plt.ylabel('loss')\n",
    "        plt.title('loss curve')\n",
    "        plt.legend()\n",
    "        plt.show()\n",
    "\n",
    "    ### Plot Accuracy ###\n",
    "    def plot_accuracy(self):\n",
    "        plt.figure(figsize=(8,5))\n",
    "        plt.plot(self.val_accuracies, label='Validation Accuracy')\n",
    "        plt.xlabel('Epochs')\n",
    "        plt.ylabel('Accuracy')\n",
    "        plt.title('Validation Accuracy Curve')\n",
    "        plt.legend()\n",
    "        plt.show()\n"
   ]
  },
  {
   "cell_type": "code",
   "execution_count": 17,
   "id": "0e1fa305",
   "metadata": {},
   "outputs": [
    {
     "name": "stdout",
     "output_type": "stream",
     "text": [
      "VanillaGNN(\n",
      "  (gnn1): VanillaGNNLayer(\n",
      "    (linear): Linear(in_features=1433, out_features=16, bias=False)\n",
      "  )\n",
      "  (gnn2): VanillaGNNLayer(\n",
      "    (linear): Linear(in_features=16, out_features=7, bias=False)\n",
      "  )\n",
      ")\n"
     ]
    }
   ],
   "source": [
    "### Create the Vanilla GNN instance ###\n",
    "gnn = VanillaGNN(dataset.num_features, 16, dataset.num_classes)\n",
    "print(gnn)"
   ]
  },
  {
   "cell_type": "code",
   "execution_count": 18,
   "id": "e5bad845",
   "metadata": {},
   "outputs": [
    {
     "name": "stdout",
     "output_type": "stream",
     "text": [
      "Epoch   0 | Train Loss: 2.012, Val Loss: 2.02, Val Acc: 18.20%\n",
      "Epoch  20 | Train Loss: 0.489, Val Loss: 0.68, Val Acc: 85.98%\n",
      "Epoch  40 | Train Loss: 0.229, Val Loss: 0.77, Val Acc: 85.31%\n",
      "Epoch  60 | Train Loss: 0.220, Val Loss: 1.23, Val Acc: 83.81%\n",
      "Epoch  80 | Train Loss: 0.135, Val Loss: 1.23, Val Acc: 84.31%\n",
      "Epoch 100 | Train Loss: 0.080, Val Loss: 1.35, Val Acc: 83.81%\n",
      "Test Accuracy: 80.34%\n"
     ]
    },
    {
     "data": {
      "image/png": "[encoded data removed]",
      "text/plain": [
       "<Figure size 800x500 with 1 Axes>"
      ]
     },
     "metadata": {},
     "output_type": "display_data"
    },
    {
     "data": {
      "image/png": "[encoded data removed]",
      "text/plain": [
       "<Figure size 800x500 with 1 Axes>"
      ]
     },
     "metadata": {},
     "output_type": "display_data"
    }
   ],
   "source": [
    "### train the Vanilla GNN model ###\n",
    "gnn.fit(data, epochs = 100)\n",
    "acc = gnn.evaluate(data)\n",
    "print(f'Test Accuracy: {acc * 100:.2f}%')\n",
    "gnn.plot_loss() \n",
    "gnn.plot_accuracy()"
   ]
  },
  {
   "cell_type": "markdown",
   "id": "32a068d7",
   "metadata": {},
   "source": [
    "<p>We can already see the accuracy of the Vanilla Neural network for the Cora Dataset outperform the MLP</p>\n",
    "\n",
    "<h5> MLP vs GNN (Vanilla Neural Network)</h5>\n",
    "\n",
    "<table border=\"1\">\n",
    "    <tr>\n",
    "        <th></th>\n",
    "        <th>MLP</th>\n",
    "        <th>GNN</th>\n",
    "    </tr>\n",
    "    <tr>\n",
    "        <td>CORA</td>\n",
    "        <td>71.29%</td>\n",
    "        <td>80.34%</td>\n",
    "    </tr>\n",
    "    <!-- <tr>\n",
    "        <td>Alice</td>\n",
    "        <td>24</td>\n",
    "        <td>Los Angeles</td>\n",
    "    </tr>\n",
    "    <tr>\n",
    "        <td>Bob</td>\n",
    "        <td>30</td>\n",
    "        <td>Chicago</td>\n",
    "    </tr>\n",
    "    <tr>\n",
    "        <td>Eve</td>\n",
    "        <td>22</td>\n",
    "        <td>Houston</td>\n",
    "    </tr> -->\n",
    "</table>\n",
    "\n"
   ]
  },
  {
   "cell_type": "markdown",
   "id": "fc2e36a7",
   "metadata": {},
   "source": []
  }
 ],
 "metadata": {
  "kernelspec": {
   "display_name": "NLP",
   "language": "python",
   "name": "python3"
  },
  "language_info": {
   "codemirror_mode": {
    "name": "ipython",
    "version": 3
   },
   "file_extension": ".py",
   "mimetype": "text/x-python",
   "name": "python",
   "nbconvert_exporter": "python",
   "pygments_lexer": "ipython3",
   "version": "3.10.12"
  }
 },
 "nbformat": 4,
 "nbformat_minor": 5
}
